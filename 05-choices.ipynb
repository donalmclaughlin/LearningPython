{
 "cells": [
  {
   "cell_type": "code",
   "execution_count": 1,
   "metadata": {},
   "outputs": [
    {
     "name": "stdout",
     "output_type": "stream",
     "text": [
      "not greater\n",
      "done\n"
     ]
    }
   ],
   "source": [
    "num = 47\n",
    "\n",
    "if num > 100:\n",
    "    print(\"greater\")\n",
    "else:\n",
    "    print(\"not greater\")\n",
    "    \n",
    "print(\"done\")"
   ]
  },
  {
   "cell_type": "code",
   "execution_count": 5,
   "metadata": {},
   "outputs": [
    {
     "name": "stdout",
     "output_type": "stream",
     "text": [
      "positive\n"
     ]
    }
   ],
   "source": [
    "num = 42\n",
    "if num > 0:\n",
    "    print(\"positive\")\n",
    "elif num < 0:\n",
    "    print(\"negative\")\n",
    "else:\n",
    "    print(\"It's 0\")"
   ]
  },
  {
   "cell_type": "code",
   "execution_count": 6,
   "metadata": {},
   "outputs": [
    {
     "data": {
      "text/plain": [
       "True"
      ]
     },
     "execution_count": 6,
     "metadata": {},
     "output_type": "execute_result"
    }
   ],
   "source": [
    "num > 0"
   ]
  },
  {
   "cell_type": "code",
   "execution_count": 7,
   "metadata": {},
   "outputs": [
    {
     "data": {
      "text/plain": [
       "False"
      ]
     },
     "execution_count": 7,
     "metadata": {},
     "output_type": "execute_result"
    }
   ],
   "source": [
    "(num > 0) and (num>50)"
   ]
  },
  {
   "cell_type": "code",
   "execution_count": 11,
   "metadata": {},
   "outputs": [
    {
     "name": "stdout",
     "output_type": "stream",
     "text": [
      "suspicious looking maxima\n",
      "suspicious looking maxima\n",
      "minima add up to zero.\n",
      "suspicious looking maxima\n",
      "suspicious looking maxima\n",
      "suspicious looking maxima\n",
      "suspicious looking maxima\n",
      "minima add up to zero.\n",
      "suspicious looking maxima\n",
      "suspicious looking maxima\n",
      "minima add up to zero.\n",
      "suspicious looking maxima\n"
     ]
    }
   ],
   "source": [
    "import numpy\n",
    "import matplotlib.pyplot\n",
    "import glob\n",
    "%matplotlib inline\n",
    "filenames = sorted(glob.glob('data/inflammation*.csv'))\n",
    "\n",
    "#data = numpy.loadtxt(fname='data/inflammation-01.csv', delimiter=',')\n",
    "for file_x in filenames:\n",
    "    data = numpy.loadtxt(fname=file_x, delimiter=',')\n",
    "    if data.max(axis=0)[0]==0 and data.max(axis=0)[20] == 20:\n",
    "        print(\"suspicious looking maxima\")\n",
    "    elif data.min(axis=0).sum() == 0:\n",
    "        print(\"minima add up to zero.\")\n",
    "    else:\n",
    "        print(\"seems ok\")\n",
    "        fig = matplotlib.pyplot.figure(figsize=(10,3))\n",
    "        axes1 = fig.add_subplot(1,3,1)\n",
    "        axes2 = fig.add_subplot(1,3,2)\n",
    "        axes3 = fig.add_subplot(1,3,3)\n",
    "\n",
    "        axes1.set_ylabel('average')\n",
    "        axes1.plot(data.mean(axis=0))\n",
    "\n",
    "        axes2.set_ylabel('max')\n",
    "        axes2.plot(data.max(axis=0))\n",
    "\n",
    "        axes3.set_ylabel('min')\n",
    "        axes3.set_ylim(0,6)\n",
    "        axes3.plot(data.min(axis=0))\n",
    "\n",
    "        fig.tight_layout()\n",
    "        matplotlib.pyplot.show()\n",
    "        "
   ]
  },
  {
   "cell_type": "code",
   "execution_count": null,
   "metadata": {},
   "outputs": [],
   "source": []
  }
 ],
 "metadata": {
  "kernelspec": {
   "display_name": "Python 3",
   "language": "python",
   "name": "python3"
  },
  "language_info": {
   "codemirror_mode": {
    "name": "ipython",
    "version": 3
   },
   "file_extension": ".py",
   "mimetype": "text/x-python",
   "name": "python",
   "nbconvert_exporter": "python",
   "pygments_lexer": "ipython3",
   "version": "3.7.3"
  }
 },
 "nbformat": 4,
 "nbformat_minor": 4
}
